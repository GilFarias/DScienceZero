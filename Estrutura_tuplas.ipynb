{
 "cells": [
  {
   "cell_type": "markdown",
   "metadata": {},
   "source": [
    "## Estrutura de dados\n",
    "\n",
    "### Tuplas - São as primas imutáveis das listas. Quase tudo que eu posso fazer com a lista, que não envolva a modificação, é possível ser feito em uma tupla. Usamos o parênteses (ou nada) em vez do colchetes"
   ]
  },
  {
   "cell_type": "code",
   "execution_count": 4,
   "metadata": {},
   "outputs": [
    {
     "name": "stdout",
     "output_type": "stream",
     "text": [
      "(12, 16)\n"
     ]
    }
   ],
   "source": [
    "tupla = (12,16)\n",
    "print (tupla)"
   ]
  },
  {
   "cell_type": "code",
   "execution_count": 5,
   "metadata": {},
   "outputs": [
    {
     "name": "stdout",
     "output_type": "stream",
     "text": [
      "(12, 16)\n"
     ]
    }
   ],
   "source": [
    "tupla2 = 12,15\n",
    "print (tupla)"
   ]
  },
  {
   "cell_type": "code",
   "execution_count": 6,
   "metadata": {
    "scrolled": true
   },
   "outputs": [
    {
     "name": "stdout",
     "output_type": "stream",
     "text": [
      "As tuplas não aceitam modificações nos seus valores!!!\n"
     ]
    }
   ],
   "source": [
    "#Lembrando que as tuplas são imutáveis\n",
    "try:\n",
    "    tupla[1]=23\n",
    "except TypeError:\n",
    "    print (\"As tuplas não aceitam modificações nos seus valores!!!\")"
   ]
  },
  {
   "cell_type": "code",
   "execution_count": null,
   "metadata": {},
   "outputs": [],
   "source": []
  },
  {
   "cell_type": "code",
   "execution_count": null,
   "metadata": {},
   "outputs": [],
   "source": []
  }
 ],
 "metadata": {
  "kernelspec": {
   "display_name": "Python 3",
   "language": "python",
   "name": "python3"
  },
  "language_info": {
   "codemirror_mode": {
    "name": "ipython",
    "version": 3
   },
   "file_extension": ".py",
   "mimetype": "text/x-python",
   "name": "python",
   "nbconvert_exporter": "python",
   "pygments_lexer": "ipython3",
   "version": "3.6.5"
  }
 },
 "nbformat": 4,
 "nbformat_minor": 2
}
