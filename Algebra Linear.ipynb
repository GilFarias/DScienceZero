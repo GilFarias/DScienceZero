{
 "cells": [
  {
   "cell_type": "markdown",
   "metadata": {},
   "source": [
    "# Álgebra Linear"
   ]
  },
  {
   "cell_type": "markdown",
   "metadata": {},
   "source": [
    "## Vetores"
   ]
  },
  {
   "cell_type": "markdown",
   "metadata": {},
   "source": [
    "Vetores são objetos que podem ser somados juntos, formando outros vetores novos. E ainda, podem ser multiplicados pelos escalares\n",
    "(por exemplo, números), também para formar vetores novos."
   ]
  },
  {
   "cell_type": "markdown",
   "metadata": {},
   "source": [
    "Por exemplo, se tivermos 3 dimesões: altura, peso e idade de uma grande quantidade de pessoas, assim tratamos como vetores\n",
    "tridimensionais (altura,peso, altura). A melhor abordagem inicial e mais simples é representar vetores como listas de números."
   ]
  },
  {
   "cell_type": "code",
   "execution_count": 43,
   "metadata": {},
   "outputs": [],
   "source": [
    "altura_peso_idade = [65, #altura\n",
    "                  90, #peso em kilos\n",
    "                  40] #idade em anos"
   ]
  },
  {
   "cell_type": "markdown",
   "metadata": {},
   "source": [
    "### Aritmética nos vetores"
   ]
  },
  {
   "cell_type": "markdown",
   "metadata": {},
   "source": [
    "Inicialmente precisaremos de dois vetores. E eles se adicionam componente a componente. Isso significa que, se dois vetores\n",
    "v e w possuem o mesmo tamanho, sua soma é somente o vetor cujo  primeiro elemmento seja v[0] + w[0], seguindo assim por diante\n",
    "a notação v[i] + w[i] \n",
    "\n",
    "#### Observação: Se os vetores não tiverem o mesmo tamanho, não poderemos somá-los"
   ]
  },
  {
   "cell_type": "code",
   "execution_count": 44,
   "metadata": {},
   "outputs": [],
   "source": [
    "# Vamos aqui criar a função soma de vetores\n",
    "v = [1, 2]\n",
    "w = [2, 1]\n",
    "def vetor_soma(v, w):\n",
    "    return [v_i + w_i\n",
    "           for v_i, w_i in zip(v, w)]"
   ]
  },
  {
   "cell_type": "code",
   "execution_count": 45,
   "metadata": {},
   "outputs": [
    {
     "data": {
      "text/plain": [
       "[3, 3]"
      ]
     },
     "execution_count": 45,
     "metadata": {},
     "output_type": "execute_result"
    }
   ],
   "source": [
    "#imprimir a soma deste vetores chamando a função vetor_soma\n",
    "vetor_soma(v, w)"
   ]
  },
  {
   "cell_type": "markdown",
   "metadata": {},
   "source": [
    "## Descompactação de Zip e Argumentos"
   ]
  },
  {
   "cell_type": "markdown",
   "metadata": {},
   "source": [
    "Utilizamos o Zip (compactar) duas ou mais listas juntas. Transformando listas múltiplas em uma única lista de tuplas."
   ]
  },
  {
   "cell_type": "code",
   "execution_count": 46,
   "metadata": {},
   "outputs": [
    {
     "data": {
      "text/plain": [
       "[('a', 2), ('b', 3), ('c', 4), ('d', 5)]"
      ]
     },
     "execution_count": 46,
     "metadata": {},
     "output_type": "execute_result"
    }
   ],
   "source": [
    "# exemplo do uso do zip\n",
    "lista1 = ['a', 'b','c', 'd']\n",
    "lista2 = [2, 3, 4, 5]\n",
    "x = zip(lista1, lista2)\n",
    "list(x)\n"
   ]
  },
  {
   "cell_type": "markdown",
   "metadata": {},
   "source": [
    "#### Observação: Usar listas como vetores é bom para exposição, mas terrível para desempenho. Uma boa biblioteca para essas operações com vetores é a NumPy."
   ]
  },
  {
   "cell_type": "code",
   "execution_count": 47,
   "metadata": {},
   "outputs": [],
   "source": [
    "#aplicando a compactação zip para somar\n",
    "def vetor_add(v, w):\n",
    "    return [v_i + w_i\n",
    "            for v_i, w_i in zip(v, w)]"
   ]
  },
  {
   "cell_type": "code",
   "execution_count": 49,
   "metadata": {},
   "outputs": [
    {
     "data": {
      "text/plain": [
       "[3, 3]"
      ]
     },
     "execution_count": 49,
     "metadata": {},
     "output_type": "execute_result"
    }
   ],
   "source": [
    "vetor_add(v, w)"
   ]
  },
  {
   "cell_type": "code",
   "execution_count": 50,
   "metadata": {},
   "outputs": [],
   "source": [
    "#Podemos também subtrair\n",
    "def vetor_subtract(v, w):\n",
    "    return [v_i - w_i\n",
    "           for v_i, w_i in zip(v, w)]"
   ]
  },
  {
   "cell_type": "code",
   "execution_count": 51,
   "metadata": {},
   "outputs": [
    {
     "data": {
      "text/plain": [
       "[-1, 1]"
      ]
     },
     "execution_count": 51,
     "metadata": {},
     "output_type": "execute_result"
    }
   ],
   "source": [
    "vetor_subtract(v, w)"
   ]
  },
  {
   "cell_type": "code",
   "execution_count": null,
   "metadata": {},
   "outputs": [],
   "source": []
  }
 ],
 "metadata": {
  "kernelspec": {
   "display_name": "Python 3",
   "language": "python",
   "name": "python3"
  },
  "language_info": {
   "codemirror_mode": {
    "name": "ipython",
    "version": 3
   },
   "file_extension": ".py",
   "mimetype": "text/x-python",
   "name": "python",
   "nbconvert_exporter": "python",
   "pygments_lexer": "ipython3",
   "version": "3.6.5"
  }
 },
 "nbformat": 4,
 "nbformat_minor": 2
}
